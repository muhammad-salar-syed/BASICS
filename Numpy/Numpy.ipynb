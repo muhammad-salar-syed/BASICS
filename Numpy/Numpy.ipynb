{
 "cells": [
  {
   "attachments": {},
   "cell_type": "markdown",
   "id": "805c40c2",
   "metadata": {},
   "source": [
    "## Data types"
   ]
  },
  {
   "cell_type": "code",
   "execution_count": 1,
   "id": "d99823b4",
   "metadata": {},
   "outputs": [
    {
     "name": "stdout",
     "output_type": "stream",
     "text": [
      "data type: float32\n",
      "[1. 2. 3.]\n"
     ]
    }
   ],
   "source": [
    "import numpy as np\n",
    "\n",
    "# float32\n",
    "A=np.array([1,2,3],dtype='f4')\n",
    "print('data type:',A.dtype)\n",
    "print(A)"
   ]
  },
  {
   "cell_type": "code",
   "execution_count": 2,
   "id": "ee21206f",
   "metadata": {},
   "outputs": [
    {
     "name": "stdout",
     "output_type": "stream",
     "text": [
      "data type: complex64\n",
      "[1.+2.j 3.-4.j]\n"
     ]
    }
   ],
   "source": [
    "# complex64\n",
    "A=np.array([1+2j,3-4j],dtype='c8')\n",
    "print('data type:',A.dtype)\n",
    "print(A)"
   ]
  },
  {
   "cell_type": "code",
   "execution_count": 6,
   "id": "15a17ed4",
   "metadata": {},
   "outputs": [
    {
     "name": "stdout",
     "output_type": "stream",
     "text": [
      "data type: bool\n",
      "[False  True  True]\n"
     ]
    }
   ],
   "source": [
    "# boolean\n",
    "A=np.array([0,1,1],dtype=np.bool)\n",
    "print('data type:',A.dtype)\n",
    "print(A)"
   ]
  },
  {
   "cell_type": "code",
   "execution_count": 7,
   "id": "fdecf936",
   "metadata": {},
   "outputs": [
    {
     "name": "stdout",
     "output_type": "stream",
     "text": [
      "data type: |S3\n",
      "[b'abc' b'ABC']\n"
     ]
    }
   ],
   "source": [
    "# String\n",
    "A=np.array(['abcd','ABCD'],dtype='S3')\n",
    "print('data type:',A.dtype)\n",
    "print(A)"
   ]
  },
  {
   "cell_type": "markdown",
   "id": "705cca0b",
   "metadata": {},
   "source": [
    "## Array"
   ]
  },
  {
   "cell_type": "code",
   "execution_count": 8,
   "id": "7331caff",
   "metadata": {},
   "outputs": [
    {
     "data": {
      "text/plain": [
       "array([0, 1, 2, 3, 4])"
      ]
     },
     "execution_count": 8,
     "metadata": {},
     "output_type": "execute_result"
    }
   ],
   "source": [
    "A=np.array(range(5))\n",
    "A"
   ]
  },
  {
   "cell_type": "code",
   "execution_count": 9,
   "id": "64214a36",
   "metadata": {},
   "outputs": [
    {
     "name": "stdout",
     "output_type": "stream",
     "text": [
      "data type: int16\n",
      "[[1 2 3]\n",
      " [4 5 6]]\n"
     ]
    }
   ],
   "source": [
    "# int16\n",
    "A=np.array([[1,2,3],[4,5,6]],dtype='i2')\n",
    "print('data type:',A.dtype)\n",
    "print(A)"
   ]
  },
  {
   "cell_type": "code",
   "execution_count": 10,
   "id": "f083c811",
   "metadata": {},
   "outputs": [
    {
     "name": "stdout",
     "output_type": "stream",
     "text": [
      "data type: int32\n",
      "[ 0  2  4  6  8 10 12 14 16 18]\n"
     ]
    }
   ],
   "source": [
    "# Evenly spaced array\n",
    "A=np.arange(0, 20, 2) # 0 to 20 with interval of 2\n",
    "print('data type:',A.dtype)\n",
    "print(A)"
   ]
  },
  {
   "cell_type": "code",
   "execution_count": 11,
   "id": "761b4d85",
   "metadata": {},
   "outputs": [
    {
     "name": "stdout",
     "output_type": "stream",
     "text": [
      "data type: float64\n",
      "[ 0.          0.52631579  1.05263158  1.57894737  2.10526316  2.63157895\n",
      "  3.15789474  3.68421053  4.21052632  4.73684211  5.26315789  5.78947368\n",
      "  6.31578947  6.84210526  7.36842105  7.89473684  8.42105263  8.94736842\n",
      "  9.47368421 10.        ]\n"
     ]
    }
   ],
   "source": [
    "# linspace\n",
    "A=np.linspace(0,10,20) # 20 points b/w 0 to 10\n",
    "print('data type:',A.dtype)\n",
    "print(A)"
   ]
  },
  {
   "cell_type": "code",
   "execution_count": 13,
   "id": "ed2d0cb0",
   "metadata": {},
   "outputs": [
    {
     "name": "stdout",
     "output_type": "stream",
     "text": [
      "Step: 0.5\n",
      "[0.  0.5 1.  1.5 2.  2.5 3.  3.5 4.  4.5 5.  5.5 6.  6.5 7.  7.5 8.  8.5\n",
      " 9.  9.5]\n"
     ]
    }
   ],
   "source": [
    "# exclude endpoint and return setp size (linspace)\n",
    "A,step=np.linspace(0,10,20,endpoint=False,retstep=True)\n",
    "print('Step:',step)\n",
    "print(A)"
   ]
  },
  {
   "cell_type": "code",
   "execution_count": 14,
   "id": "d952eb7d",
   "metadata": {},
   "outputs": [
    {
     "name": "stdout",
     "output_type": "stream",
     "text": [
      "data type: float64\n",
      "[[0.49202643 0.55111518 0.31557089]\n",
      " [0.29622728 0.66218333 0.76929387]\n",
      " [0.50328197 0.09967328 0.28127165]]\n"
     ]
    }
   ],
   "source": [
    "# array with random values\n",
    "A=np.random.rand(3,3)\n",
    "print('data type:',A.dtype)\n",
    "print(A)"
   ]
  },
  {
   "cell_type": "code",
   "execution_count": 15,
   "id": "425de014",
   "metadata": {},
   "outputs": [
    {
     "name": "stdout",
     "output_type": "stream",
     "text": [
      "data type: int32\n",
      "[[0 0 0]\n",
      " [0 0 0]]\n"
     ]
    }
   ],
   "source": [
    "# array of zeros\n",
    "A=np.zeros((2,3),dtype='i4')\n",
    "print('data type:',A.dtype)\n",
    "print(A)"
   ]
  },
  {
   "cell_type": "code",
   "execution_count": 16,
   "id": "bd7b4ca9",
   "metadata": {},
   "outputs": [
    {
     "name": "stdout",
     "output_type": "stream",
     "text": [
      "Shape of A: (3, 3)\n",
      "Shape of zeros: (3, 3)\n"
     ]
    }
   ],
   "source": [
    "# array of zeros of same shape as other array\n",
    "A=np.random.rand(3,3)\n",
    "zeros=np.zeros_like(A)\n",
    "print('Shape of A:',A.shape)\n",
    "print('Shape of zeros:',zeros.shape)"
   ]
  },
  {
   "cell_type": "code",
   "execution_count": 17,
   "id": "2d00a483",
   "metadata": {},
   "outputs": [
    {
     "data": {
      "text/plain": [
       "array([[1., 1.],\n",
       "       [1., 1.]])"
      ]
     },
     "execution_count": 17,
     "metadata": {},
     "output_type": "execute_result"
    }
   ],
   "source": [
    "# array of ones\n",
    "ones=np.ones((2,2))\n",
    "ones"
   ]
  },
  {
   "cell_type": "code",
   "execution_count": 19,
   "id": "bb56e4a5",
   "metadata": {},
   "outputs": [
    {
     "name": "stdout",
     "output_type": "stream",
     "text": [
      "Shape of A: (3, 3)\n",
      "Shape of ones: (3, 3)\n"
     ]
    }
   ],
   "source": [
    "# array of ones of same shape as other array\n",
    "A=np.random.rand(3,3)\n",
    "ones=np.ones_like(A)\n",
    "print('Shape of A:',A.shape)\n",
    "print('Shape of ones:',ones.shape)"
   ]
  },
  {
   "cell_type": "code",
   "execution_count": 21,
   "id": "d44c289e",
   "metadata": {},
   "outputs": [
    {
     "name": "stdout",
     "output_type": "stream",
     "text": [
      "float64\n"
     ]
    }
   ],
   "source": [
    "# arbitary values\n",
    "A=np.empty((2,2))\n",
    "print(A.dtype)"
   ]
  },
  {
   "cell_type": "code",
   "execution_count": 23,
   "id": "ef1e572d",
   "metadata": {},
   "outputs": [
    {
     "name": "stdout",
     "output_type": "stream",
     "text": [
      "Shape of A: (2, 2)\n",
      "Shape of arb val: (2, 2)\n"
     ]
    }
   ],
   "source": [
    "# array of arbitary values of same shape as other array\n",
    "A=np.random.rand(2,2)\n",
    "arb=np.empty_like(A)\n",
    "print('Shape of A:',A.shape)\n",
    "print('Shape of arb val:',arb.shape)"
   ]
  },
  {
   "cell_type": "code",
   "execution_count": 24,
   "id": "1b2a3550",
   "metadata": {},
   "outputs": [
    {
     "name": "stdout",
     "output_type": "stream",
     "text": [
      "data type: int32\n"
     ]
    },
    {
     "data": {
      "text/plain": [
       "array([[5, 5, 5],\n",
       "       [5, 5, 5]])"
      ]
     },
     "execution_count": 24,
     "metadata": {},
     "output_type": "execute_result"
    }
   ],
   "source": [
    "# array of same values\n",
    "A=np.full((2,3),5)\n",
    "print('data type:',A.dtype)\n",
    "A"
   ]
  },
  {
   "cell_type": "code",
   "execution_count": 26,
   "id": "632d1bba",
   "metadata": {},
   "outputs": [
    {
     "data": {
      "text/plain": [
       "array([[5., 5.],\n",
       "       [5., 5.]])"
      ]
     },
     "execution_count": 26,
     "metadata": {},
     "output_type": "execute_result"
    }
   ],
   "source": [
    "# array of same values of same shape as other array\n",
    "A=np.random.rand(2,2)\n",
    "B=np.full_like(A,5)\n",
    "B"
   ]
  },
  {
   "cell_type": "code",
   "execution_count": 27,
   "id": "b199fe88",
   "metadata": {},
   "outputs": [
    {
     "name": "stdout",
     "output_type": "stream",
     "text": [
      "[0 0 0 1 1 1 2 2 2]\n"
     ]
    }
   ],
   "source": [
    "# repeat each element of an array by specific number of times\n",
    "A=[0,1,2]\n",
    "print(np.repeat(A,3))"
   ]
  },
  {
   "cell_type": "code",
   "execution_count": 30,
   "id": "33ae5639",
   "metadata": {},
   "outputs": [
    {
     "name": "stdout",
     "output_type": "stream",
     "text": [
      "[[1 2]\n",
      " [3 4]\n",
      " [3 4]]\n"
     ]
    }
   ],
   "source": [
    "A=[[1,2],[3,4]]\n",
    "print(np.repeat(A,[1,2],axis=0))"
   ]
  },
  {
   "cell_type": "code",
   "execution_count": 31,
   "id": "cbd2180b",
   "metadata": {},
   "outputs": [
    {
     "name": "stdout",
     "output_type": "stream",
     "text": [
      "[0 1 2 0 1 2 0 1 2]\n"
     ]
    }
   ],
   "source": [
    "# repeat numbers\n",
    "A=[0,1,2]\n",
    "print(np.tile(A,3))"
   ]
  },
  {
   "cell_type": "code",
   "execution_count": 32,
   "id": "30971a41",
   "metadata": {},
   "outputs": [
    {
     "name": "stdout",
     "output_type": "stream",
     "text": [
      "[[0 1 2 3 0 1 2 3]\n",
      " [0 1 2 3 0 1 2 3]]\n"
     ]
    }
   ],
   "source": [
    "# repeat along specific axis\n",
    "A=[0,1,2,3]\n",
    "print(np.tile(A,(2,2)))"
   ]
  },
  {
   "cell_type": "code",
   "execution_count": 34,
   "id": "3a214dfd",
   "metadata": {},
   "outputs": [
    {
     "data": {
      "text/plain": [
       "array([[1., 0., 0., 0.],\n",
       "       [0., 1., 0., 0.],\n",
       "       [0., 0., 1., 0.],\n",
       "       [0., 0., 0., 1.]])"
      ]
     },
     "execution_count": 34,
     "metadata": {},
     "output_type": "execute_result"
    }
   ],
   "source": [
    "# identity matrix along diagonal axis\n",
    "I=np.eye(4)\n",
    "I"
   ]
  },
  {
   "cell_type": "code",
   "execution_count": 35,
   "id": "66e2c53b",
   "metadata": {},
   "outputs": [
    {
     "data": {
      "text/plain": [
       "array([[0., 1., 0., 0., 0.],\n",
       "       [0., 0., 1., 0., 0.],\n",
       "       [0., 0., 0., 1., 0.],\n",
       "       [0., 0., 0., 0., 1.],\n",
       "       [0., 0., 0., 0., 0.]])"
      ]
     },
     "execution_count": 35,
     "metadata": {},
     "output_type": "execute_result"
    }
   ],
   "source": [
    "# identity matrix along diagonal offset\n",
    "I=np.eye(5,k=1) # +ve shift at diagonal upward\n",
    "I"
   ]
  },
  {
   "cell_type": "code",
   "execution_count": 36,
   "id": "334dd27a",
   "metadata": {},
   "outputs": [
    {
     "data": {
      "text/plain": [
       "array([[0., 0., 0., 0., 0.],\n",
       "       [0., 0., 0., 0., 0.],\n",
       "       [1., 0., 0., 0., 0.],\n",
       "       [0., 1., 0., 0., 0.],\n",
       "       [0., 0., 1., 0., 0.]])"
      ]
     },
     "execution_count": 36,
     "metadata": {},
     "output_type": "execute_result"
    }
   ],
   "source": [
    "# -ve shift at diagonal downward\n",
    "I=np.eye(5,k=-2)\n",
    "I"
   ]
  },
  {
   "cell_type": "code",
   "execution_count": 39,
   "id": "b69a69b4",
   "metadata": {},
   "outputs": [
    {
     "name": "stdout",
     "output_type": "stream",
     "text": [
      "A: [[0.52534329 0.48186265 0.09648138 0.63104723 0.43106197]\n",
      " [0.72391637 0.36235775 0.19854819 0.15838585 0.30354482]\n",
      " [0.71838203 0.45525884 0.35955767 0.61960015 0.82665988]\n",
      " [0.52714574 0.08656853 0.21241158 0.09748977 0.00486212]\n",
      " [0.20367484 0.45801223 0.52974018 0.84540343 0.28813605]]\n",
      "Diagonal values: [0.52534329 0.36235775 0.35955767 0.09748977 0.28813605]\n"
     ]
    }
   ],
   "source": [
    "# extract diagonal values\n",
    "A=np.random.rand(5,5)\n",
    "print('A:',A)\n",
    "print('Diagonal values:',np.diag(A))"
   ]
  },
  {
   "cell_type": "code",
   "execution_count": 40,
   "id": "11732507",
   "metadata": {},
   "outputs": [
    {
     "data": {
      "text/plain": [
       "array([[1, 0, 0, 0],\n",
       "       [0, 2, 0, 0],\n",
       "       [0, 0, 3, 0],\n",
       "       [0, 0, 0, 4]])"
      ]
     },
     "execution_count": 40,
     "metadata": {},
     "output_type": "execute_result"
    }
   ],
   "source": [
    "# create a matrix with specific diagonal values\n",
    "A=np.diag([1,2,3,4])\n",
    "A"
   ]
  },
  {
   "cell_type": "markdown",
   "id": "b01464b2",
   "metadata": {},
   "source": [
    "## Info regarding Array"
   ]
  },
  {
   "cell_type": "code",
   "execution_count": 41,
   "id": "85e1338c",
   "metadata": {},
   "outputs": [
    {
     "data": {
      "text/plain": [
       "array([[1, 2, 3],\n",
       "       [4, 5, 6]], dtype=int64)"
      ]
     },
     "execution_count": 41,
     "metadata": {},
     "output_type": "execute_result"
    }
   ],
   "source": [
    "A=np.array([[1,2,3],[4,5,6]],dtype=np.int64)\n",
    "A"
   ]
  },
  {
   "cell_type": "code",
   "execution_count": 42,
   "id": "f914a7b2",
   "metadata": {},
   "outputs": [
    {
     "name": "stdout",
     "output_type": "stream",
     "text": [
      "class:  ndarray\n",
      "shape:  (2, 3)\n",
      "strides:  (24, 8)\n",
      "itemsize:  8\n",
      "aligned:  True\n",
      "contiguous:  True\n",
      "fortran:  False\n",
      "data pointer: 0x2b80904d740\n",
      "byteorder:  little\n",
      "byteswap:  False\n",
      "type: int64\n",
      "None\n"
     ]
    }
   ],
   "source": [
    "# info\n",
    "print(np.info(A))"
   ]
  },
  {
   "cell_type": "code",
   "execution_count": 43,
   "id": "fb909f57",
   "metadata": {},
   "outputs": [
    {
     "name": "stdout",
     "output_type": "stream",
     "text": [
      "data type: int64\n"
     ]
    }
   ],
   "source": [
    "# data type\n",
    "print('data type:',A.dtype)"
   ]
  },
  {
   "cell_type": "code",
   "execution_count": 44,
   "id": "c2141566",
   "metadata": {},
   "outputs": [
    {
     "name": "stdout",
     "output_type": "stream",
     "text": [
      "Shape: (2, 3)\n"
     ]
    }
   ],
   "source": [
    "# shape\n",
    "print('Shape:',A.shape)"
   ]
  },
  {
   "cell_type": "code",
   "execution_count": 46,
   "id": "f3311fd8",
   "metadata": {},
   "outputs": [
    {
     "name": "stdout",
     "output_type": "stream",
     "text": [
      "length of A: 2\n"
     ]
    }
   ],
   "source": [
    "# length of array\n",
    "print('length of A:',len(A))"
   ]
  },
  {
   "cell_type": "code",
   "execution_count": 48,
   "id": "89cde6e6",
   "metadata": {},
   "outputs": [
    {
     "name": "stdout",
     "output_type": "stream",
     "text": [
      "Dimension: 2\n"
     ]
    }
   ],
   "source": [
    "# dimension\n",
    "print('Dimension:',A.ndim)"
   ]
  },
  {
   "cell_type": "code",
   "execution_count": 49,
   "id": "76926648",
   "metadata": {},
   "outputs": [
    {
     "name": "stdout",
     "output_type": "stream",
     "text": [
      "Size: 6\n"
     ]
    }
   ],
   "source": [
    "# Number of element\n",
    "print('Size:',A.size)"
   ]
  },
  {
   "cell_type": "code",
   "execution_count": 50,
   "id": "1ae93c07",
   "metadata": {},
   "outputs": [
    {
     "name": "stdout",
     "output_type": "stream",
     "text": [
      "Item size: 8\n"
     ]
    }
   ],
   "source": [
    "# number of byte of each element within an array\n",
    "print('Item size:',A.itemsize)"
   ]
  },
  {
   "cell_type": "code",
   "execution_count": 51,
   "id": "244bc2c6",
   "metadata": {},
   "outputs": [
    {
     "name": "stdout",
     "output_type": "stream",
     "text": [
      "Bytes: 48\n"
     ]
    }
   ],
   "source": [
    "# memory size in bytes\n",
    "print('Bytes:',A.nbytes)"
   ]
  },
  {
   "cell_type": "markdown",
   "id": "9c470abf",
   "metadata": {},
   "source": [
    "## Sampling"
   ]
  },
  {
   "cell_type": "code",
   "execution_count": 52,
   "id": "d01ca297",
   "metadata": {},
   "outputs": [],
   "source": [
    "# setting seed\n",
    "np.random.seed(40)"
   ]
  },
  {
   "cell_type": "code",
   "execution_count": 53,
   "id": "d85acb6e",
   "metadata": {},
   "outputs": [
    {
     "data": {
      "text/plain": [
       "array([0.71435399, 0.2559666 , 0.99330929, 0.40069184, 0.70841185])"
      ]
     },
     "execution_count": 53,
     "metadata": {},
     "output_type": "execute_result"
    }
   ],
   "source": [
    "# random seed (Independent of global seed)\n",
    "A=np.random.RandomState(320)\n",
    "A.rand(5)"
   ]
  },
  {
   "cell_type": "code",
   "execution_count": 54,
   "id": "289416c2",
   "metadata": {},
   "outputs": [
    {
     "name": "stdout",
     "output_type": "stream",
     "text": [
      "0.4076870280802861\n"
     ]
    }
   ],
   "source": [
    "# random scaler value\n",
    "print(np.random.rand())"
   ]
  },
  {
   "cell_type": "code",
   "execution_count": 55,
   "id": "8295b1f7",
   "metadata": {},
   "outputs": [
    {
     "name": "stdout",
     "output_type": "stream",
     "text": [
      "[0.05536604 0.78853488 0.28730518 0.45035059]\n"
     ]
    }
   ],
   "source": [
    "# 1D array\n",
    "print(np.random.rand(4))"
   ]
  },
  {
   "cell_type": "code",
   "execution_count": 56,
   "id": "557b7983",
   "metadata": {},
   "outputs": [
    {
     "name": "stdout",
     "output_type": "stream",
     "text": [
      "[[0.30391231 0.52639952 0.62381221]\n",
      " [0.77677546 0.68624165 0.98093886]\n",
      " [0.60081609 0.81396852 0.70864515]]\n"
     ]
    }
   ],
   "source": [
    "# 2D array\n",
    "print(np.random.rand(3,3))"
   ]
  },
  {
   "cell_type": "code",
   "execution_count": 57,
   "id": "76776026",
   "metadata": {},
   "outputs": [
    {
     "name": "stdout",
     "output_type": "stream",
     "text": [
      "[[-1.01700702 -0.13369303 -0.4381855 ]\n",
      " [ 0.49344349 -0.19900912 -1.27498361]\n",
      " [ 0.29349415  0.10895031  0.03172679]]\n"
     ]
    }
   ],
   "source": [
    "# randn (Standard normal distribution) (mean=0,var=1)\n",
    "print(np.random.randn(3,3))"
   ]
  },
  {
   "cell_type": "code",
   "execution_count": 59,
   "id": "50536fe5",
   "metadata": {},
   "outputs": [
    {
     "name": "stdout",
     "output_type": "stream",
     "text": [
      "data type: int64\n",
      "[ 3 19 13  6 17]\n"
     ]
    }
   ],
   "source": [
    "# np.random.randint(low,high,size,dtype)\n",
    "A=np.random.randint(1,20,5,'i8')\n",
    "print('data type:',A.dtype)\n",
    "print(A)"
   ]
  },
  {
   "cell_type": "code",
   "execution_count": 60,
   "id": "3ac7afa4",
   "metadata": {},
   "outputs": [],
   "source": [
    "# random floating point numbers b/w 0 and 1\n",
    "A=np.random.random_sample(5)\n",
    "B=np.random.random(5)\n",
    "C=np.random.ranf(5)\n",
    "D=np.random.sample(5)"
   ]
  },
  {
   "cell_type": "code",
   "execution_count": 62,
   "id": "03f16072",
   "metadata": {},
   "outputs": [
    {
     "name": "stdout",
     "output_type": "stream",
     "text": [
      "[1 1 1 0 2 1 1 1 0 1]\n"
     ]
    }
   ],
   "source": [
    "# random sample for 1D array\n",
    "print(np.random.choice(range(3),10,replace=True,p=[0.1,0.8,0.1]))"
   ]
  },
  {
   "cell_type": "code",
   "execution_count": 67,
   "id": "01916da7",
   "metadata": {},
   "outputs": [
    {
     "name": "stdout",
     "output_type": "stream",
     "text": [
      "[3 1 1 2 1 3 1 1 2 2]\n"
     ]
    }
   ],
   "source": [
    "print(np.random.choice([1,2,3],10))"
   ]
  },
  {
   "cell_type": "code",
   "execution_count": 70,
   "id": "94b3d015",
   "metadata": {},
   "outputs": [
    {
     "name": "stdout",
     "output_type": "stream",
     "text": [
      "Shuffle: [ 8  1  5  2  9  4  3 10  6  7  0 11]\n"
     ]
    }
   ],
   "source": [
    "# shuffle values in array\n",
    "A=np.array(range(12))\n",
    "np.random.shuffle(A)\n",
    "print('Shuffle:',A)"
   ]
  },
  {
   "cell_type": "code",
   "execution_count": 71,
   "id": "f02605ba",
   "metadata": {},
   "outputs": [
    {
     "name": "stdout",
     "output_type": "stream",
     "text": [
      "Initial array: [0 1 2 3 4 5 6 7 8 9]\n",
      "Permutated array: [0 6 5 7 8 9 2 3 4 1]\n"
     ]
    }
   ],
   "source": [
    "# permutation of array (similar to shuffle)\n",
    "A=np.array(range(10))\n",
    "print('Initial array:',A)\n",
    "print('Permutated array:',np.random.permutation(A))"
   ]
  },
  {
   "cell_type": "markdown",
   "id": "1fd2e2eb",
   "metadata": {},
   "source": [
    "## Math Functions"
   ]
  },
  {
   "cell_type": "code",
   "execution_count": 73,
   "id": "4475afcc",
   "metadata": {},
   "outputs": [
    {
     "name": "stdout",
     "output_type": "stream",
     "text": [
      "[0.34851137 0.91539995 0.85444843 0.9911576  0.36178449]\n"
     ]
    }
   ],
   "source": [
    "A=np.random.rand(5)\n",
    "print(A)"
   ]
  },
  {
   "cell_type": "code",
   "execution_count": 75,
   "id": "a743e3b4",
   "metadata": {},
   "outputs": [
    {
     "name": "stdout",
     "output_type": "stream",
     "text": [
      "Add: [5.34851137 5.91539995 5.85444843 5.9911576  5.36178449]\n",
      "Sub: [-4.65148863 -4.08460005 -4.14555157 -4.0088424  -4.63821551]\n",
      "Multiply: [1.74255685 4.57699975 4.27224216 4.95578802 1.80892244]\n",
      "Divide: [0.06970227 0.18307999 0.17088969 0.19823152 0.0723569 ]\n"
     ]
    }
   ],
   "source": [
    "# elementwise add,sub,multiply,divide\n",
    "print('Add:',A+5)\n",
    "print('Sub:',A-5)\n",
    "print('Multiply:',A*5)\n",
    "print('Divide:',A/5)"
   ]
  },
  {
   "cell_type": "code",
   "execution_count": 77,
   "id": "dd03ea27",
   "metadata": {},
   "outputs": [
    {
     "name": "stdout",
     "output_type": "stream",
     "text": [
      "Add: [3 5 7]\n",
      "Sub: [-1 -1 -1]\n",
      "Mul: [ 2  6 12]\n"
     ]
    }
   ],
   "source": [
    "# elementwise add,sub,multiply\n",
    "A=np.array([1,2,3])\n",
    "B=np.array([2,3,4])\n",
    "Add=np.add(A,B)\n",
    "Sub=np.subtract(A,B)\n",
    "Mul=np.multiply(A,B)\n",
    "print('Add:',Add)\n",
    "print('Sub:',Sub)\n",
    "print('Mul:',Mul)"
   ]
  },
  {
   "cell_type": "code",
   "execution_count": 78,
   "id": "f7f03986",
   "metadata": {},
   "outputs": [
    {
     "name": "stdout",
     "output_type": "stream",
     "text": [
      "Exp: [3.57026514 2.0026134  0.20212149]\n"
     ]
    }
   ],
   "source": [
    "# elementwise exponential\n",
    "A=np.random.randn(3)\n",
    "exp=np.exp(A)\n",
    "print('Exp:',exp)"
   ]
  },
  {
   "cell_type": "code",
   "execution_count": 82,
   "id": "814949e8",
   "metadata": {},
   "outputs": [
    {
     "name": "stdout",
     "output_type": "stream",
     "text": [
      "Log: [0.69314718 1.09861229 1.38629436]\n"
     ]
    }
   ],
   "source": [
    "# elementwise natural log\n",
    "A=np.array([2,3,4])\n",
    "log=np.log(A)\n",
    "print('Log:',log)"
   ]
  },
  {
   "cell_type": "code",
   "execution_count": 83,
   "id": "2db2cd08",
   "metadata": {},
   "outputs": [
    {
     "name": "stdout",
     "output_type": "stream",
     "text": [
      "base2 log: [1.        1.5849625 2.       ]\n"
     ]
    }
   ],
   "source": [
    "# Base 2 log\n",
    "print('base2 log:',np.log2(A))"
   ]
  },
  {
   "cell_type": "code",
   "execution_count": 84,
   "id": "c1e71e3c",
   "metadata": {},
   "outputs": [
    {
     "name": "stdout",
     "output_type": "stream",
     "text": [
      "base10 log: [0.30103    0.47712125 0.60205999]\n"
     ]
    }
   ],
   "source": [
    "# Base10 log\n",
    "print('base10 log:',np.log10(A))"
   ]
  },
  {
   "cell_type": "code",
   "execution_count": 85,
   "id": "be33f288",
   "metadata": {},
   "outputs": [
    {
     "name": "stdout",
     "output_type": "stream",
     "text": [
      "Sqrt: [1.41421356 1.73205081 2.        ]\n"
     ]
    }
   ],
   "source": [
    "# sqrt\n",
    "print('Sqrt:',np.sqrt(A))"
   ]
  },
  {
   "cell_type": "code",
   "execution_count": 86,
   "id": "318f6b7c",
   "metadata": {},
   "outputs": [
    {
     "name": "stdout",
     "output_type": "stream",
     "text": [
      "Sin: [ 0.90929743  0.14112001 -0.7568025 ]\n",
      "Cosine: [-0.41614684 -0.9899925  -0.65364362]\n"
     ]
    }
   ],
   "source": [
    "# sin and cosine\n",
    "print('Sin:',np.sin(A))\n",
    "print('Cosine:',np.cos(A))"
   ]
  },
  {
   "cell_type": "code",
   "execution_count": 91,
   "id": "e251469b",
   "metadata": {},
   "outputs": [
    {
     "name": "stdout",
     "output_type": "stream",
     "text": [
      "Sum along row: [0.32823917 2.17081946 0.91699284]\n",
      "Sum along column: [1.18787758 0.8456466  1.38252729]\n"
     ]
    }
   ],
   "source": [
    "# sum 0f all element along certain axis\n",
    "A=np.random.rand(3,3)\n",
    "print('Sum along row:',np.sum(A,axis=0))\n",
    "print('Sum along column:',np.sum(A,axis=1))"
   ]
  },
  {
   "cell_type": "code",
   "execution_count": 93,
   "id": "41e9d363",
   "metadata": {},
   "outputs": [
    {
     "name": "stdout",
     "output_type": "stream",
     "text": [
      "max value along row: [0.22318183 0.95176601 0.54155675]\n",
      "max value along column: [0.56437342 0.65468003 0.95176601]\n"
     ]
    }
   ],
   "source": [
    "# max values along certain axis\n",
    "print('max value along row:',np.max(A,axis=0))\n",
    "print('max value along column:',np.max(A,axis=1))"
   ]
  },
  {
   "cell_type": "code",
   "execution_count": 94,
   "id": "a8660cc8",
   "metadata": {},
   "outputs": [
    {
     "name": "stdout",
     "output_type": "stream",
     "text": [
      "min value along row: [0.02310993 0.56437342 0.16785664]\n",
      "min value along column: [0.08194741 0.02310993 0.20757945]\n"
     ]
    }
   ],
   "source": [
    "# min values along certain axis\n",
    "print('min value along row:',np.min(A,axis=0))\n",
    "print('min value along column:',np.min(A,axis=1))"
   ]
  },
  {
   "cell_type": "code",
   "execution_count": 95,
   "id": "cc5f6727",
   "metadata": {},
   "outputs": [
    {
     "name": "stdout",
     "output_type": "stream",
     "text": [
      "Min value: 0.02310992624336672\n",
      "Max value: 0.951766012365578\n"
     ]
    }
   ],
   "source": [
    "# min max values along entire matrix\n",
    "print('Min value:',np.min(A))\n",
    "print('Max value:',np.max(A))"
   ]
  },
  {
   "cell_type": "code",
   "execution_count": 96,
   "id": "105bb639",
   "metadata": {},
   "outputs": [
    {
     "name": "stdout",
     "output_type": "stream",
     "text": [
      "Indices for min values along row: [1 0 1]\n",
      "Indices for max values along row: [2 2 0]\n"
     ]
    }
   ],
   "source": [
    "# Indices for min and max values along specific axis (row)\n",
    "print('Indices for min values along row:',np.argmin(A,axis=0))\n",
    "print('Indices for max values along row:',np.argmax(A,axis=0))"
   ]
  },
  {
   "cell_type": "code",
   "execution_count": 97,
   "id": "be85d42f",
   "metadata": {},
   "outputs": [
    {
     "name": "stdout",
     "output_type": "stream",
     "text": [
      "Indices for min values along column: [0 0 2]\n",
      "Indices for max values along column: [1 1 1]\n"
     ]
    }
   ],
   "source": [
    "# Indices for min and max values along specific axis (column)\n",
    "print('Indices for min values along column:',np.argmin(A,axis=1))\n",
    "print('Indices for max values along column:',np.argmax(A,axis=1))"
   ]
  },
  {
   "cell_type": "code",
   "execution_count": 98,
   "id": "670fd29f",
   "metadata": {},
   "outputs": [
    {
     "name": "stdout",
     "output_type": "stream",
     "text": [
      "min value indice: 3\n",
      "max value indice: 7\n"
     ]
    }
   ],
   "source": [
    "# Indices for min and max values along entire matrix\n",
    "print('min value indice:',np.argmin(A))\n",
    "print('max value indice:',np.argmax(A))"
   ]
  },
  {
   "cell_type": "code",
   "execution_count": 99,
   "id": "ca35785b",
   "metadata": {},
   "outputs": [
    {
     "name": "stdout",
     "output_type": "stream",
     "text": [
      "Min: [1 2 3 4]\n",
      "Max: [2 3 4 5]\n"
     ]
    }
   ],
   "source": [
    "# elementwise min and max of 2 arrays\n",
    "A=np.array([1,2,3,4])\n",
    "B=np.array([2,3,4,5])\n",
    "print('Min:',np.minimum(A,B))\n",
    "print('Max:',np.maximum(A,B))"
   ]
  },
  {
   "cell_type": "code",
   "execution_count": 100,
   "id": "a145e70a",
   "metadata": {},
   "outputs": [
    {
     "name": "stdout",
     "output_type": "stream",
     "text": [
      "Fractional part: [0.6624271  0.92461996 0.7852692  0.32868608 0.47753847 0.21841289\n",
      " 0.38999551 0.62259913 0.35038991 0.06046123]\n",
      "Integral part: [3. 4. 3. 0. 4. 4. 2. 4. 1. 4.]\n"
     ]
    }
   ],
   "source": [
    "# split integral and floating values\n",
    "A=np.random.rand(10)*5\n",
    "Fr,integ=np.modf(A)\n",
    "print('Fractional part:',Fr)\n",
    "print('Integral part:',integ)"
   ]
  },
  {
   "cell_type": "code",
   "execution_count": 103,
   "id": "1d312e67",
   "metadata": {},
   "outputs": [
    {
     "name": "stdout",
     "output_type": "stream",
     "text": [
      "Mean value: 0.28778259387956434\n"
     ]
    }
   ],
   "source": [
    "# mean value\n",
    "A=np.random.rand(3,3)\n",
    "print('Mean value:',np.mean(A))"
   ]
  },
  {
   "cell_type": "code",
   "execution_count": 104,
   "id": "567cf672",
   "metadata": {},
   "outputs": [
    {
     "name": "stdout",
     "output_type": "stream",
     "text": [
      "Mean values along row: [0.16115371 0.21871191 0.48348216]\n",
      "Mean values along column: [0.28826134 0.34321848 0.23186796]\n"
     ]
    }
   ],
   "source": [
    "# mean value along row and column\n",
    "print('Mean values along row:',np.mean(A,axis=0))\n",
    "print('Mean values along column:',np.mean(A,axis=1))"
   ]
  },
  {
   "cell_type": "code",
   "execution_count": 105,
   "id": "322e8869",
   "metadata": {},
   "outputs": [
    {
     "name": "stdout",
     "output_type": "stream",
     "text": [
      "Median value: 0.37161733206260106\n"
     ]
    }
   ],
   "source": [
    "# median value\n",
    "A=np.random.rand(3,3)\n",
    "print('Median value:',np.median(A))"
   ]
  },
  {
   "cell_type": "code",
   "execution_count": 106,
   "id": "9db7fd2e",
   "metadata": {},
   "outputs": [
    {
     "name": "stdout",
     "output_type": "stream",
     "text": [
      "Median values along row: [0.36163601 0.37161733 0.5523528 ]\n",
      "Median values along column: [0.37458818 0.37161733 0.36163601]\n"
     ]
    }
   ],
   "source": [
    "# median value along row and column\n",
    "print('Median values along row:',np.median(A,axis=0))\n",
    "print('Median values along column:',np.median(A,axis=1))"
   ]
  },
  {
   "cell_type": "code",
   "execution_count": 109,
   "id": "1e1ec794",
   "metadata": {},
   "outputs": [
    {
     "name": "stdout",
     "output_type": "stream",
     "text": [
      "Values at 3,5,7: [0.27209613 0.27297723 0.27385834]\n"
     ]
    }
   ],
   "source": [
    "# compute percentile\n",
    "A=np.random.rand(10)\n",
    "print('Values at 3,5,7:',np.percentile(A,[3,5,7]))"
   ]
  },
  {
   "cell_type": "code",
   "execution_count": 110,
   "id": "3a9ba728",
   "metadata": {},
   "outputs": [
    {
     "name": "stdout",
     "output_type": "stream",
     "text": [
      "SD: 0.20415857483969557\n",
      "SD along row: [0.00947044 0.30909266 0.10091677]\n",
      "SD along column: [0.06205065 0.23979539 0.15096486]\n"
     ]
    }
   ],
   "source": [
    "# Standard deviation\n",
    "A=np.random.rand(3,3)\n",
    "print('SD:',np.std(A))\n",
    "print('SD along row:',np.std(A,axis=0))\n",
    "print('SD along column:',np.std(A,axis=1))"
   ]
  },
  {
   "cell_type": "code",
   "execution_count": 111,
   "id": "26cdb792",
   "metadata": {},
   "outputs": [
    {
     "name": "stdout",
     "output_type": "stream",
     "text": [
      "Var: 0.04855240349769328\n",
      "Var along row: [0.02862826 0.01649981 0.03187268]\n",
      "Var along column: [0.03401616 0.08715769 0.0084689 ]\n"
     ]
    }
   ],
   "source": [
    "# Variance\n",
    "A=np.random.rand(3,3)\n",
    "print('Var:',np.var(A))\n",
    "print('Var along row:',np.var(A,axis=0))\n",
    "print('Var along column:',np.var(A,axis=1))"
   ]
  },
  {
   "cell_type": "code",
   "execution_count": 115,
   "id": "9c1fea39",
   "metadata": {},
   "outputs": [
    {
     "name": "stdout",
     "output_type": "stream",
     "text": [
      "covariance: [[ 0.08112639 -0.01891915  0.02149096]\n",
      " [-0.01891915  0.05610863  0.05877528]\n",
      " [ 0.02149096  0.05877528  0.08439841]]\n",
      "correlation: [[1.         0.51174043]\n",
      " [0.51174043 1.        ]]\n"
     ]
    }
   ],
   "source": [
    "# covariance and correlation\n",
    "A=np.random.rand(3,3)\n",
    "print('covariance:',np.cov(A))\n",
    "print('correlation:',np.corrcoef(A[:,0],A[:,1]))"
   ]
  },
  {
   "cell_type": "code",
   "execution_count": 117,
   "id": "abe17358",
   "metadata": {},
   "outputs": [
    {
     "name": "stdout",
     "output_type": "stream",
     "text": [
      "cumulative value: [0.10156193 0.68181799 0.75529825 1.18848084 1.75653497 2.65045109\n",
      " 2.69979671 3.18010915 3.78242288]\n",
      "cumulative value along x-axis: [[0.10156193 0.58025606 0.07348027]\n",
      " [0.53474451 1.1483102  0.96739638]\n",
      " [0.58409013 1.62862264 1.56971011]]\n",
      "cumulative value along y-axis: [[0.10156193 0.68181799 0.75529825]\n",
      " [0.43318258 1.00123672 1.89515284]\n",
      " [0.04934562 0.52965806 1.13197179]]\n"
     ]
    }
   ],
   "source": [
    "# cumulative sum\n",
    "print('cumulative value:',np.cumsum(A))\n",
    "print('cumulative value along x-axis:',np.cumsum(A,axis=0))\n",
    "print('cumulative value along y-axis:',np.cumsum(A,axis=1))"
   ]
  },
  {
   "cell_type": "code",
   "execution_count": 118,
   "id": "f5ef6391",
   "metadata": {},
   "outputs": [
    {
     "name": "stdout",
     "output_type": "stream",
     "text": [
      "cumulative product value: [1.01561929e-01 5.89319247e-02 4.33033346e-03 1.87582503e-03\n",
      " 1.06557017e-03 9.52530347e-04 4.70031969e-05 2.25762206e-05\n",
      " 1.35979676e-05]\n",
      "cumulative product value along x-axis: [[0.10156193 0.58025606 0.07348027]\n",
      " [0.04399486 0.32961685 0.06568519]\n",
      " [0.00217095 0.15831908 0.03956309]]\n",
      "cumulative product value along y-axis: [[0.10156193 0.05893192 0.00433033]\n",
      " [0.43318258 0.24607116 0.21996697]\n",
      " [0.04934562 0.02370131 0.01427563]]\n"
     ]
    }
   ],
   "source": [
    "# cumulative product\n",
    "print('cumulative product value:',np.cumprod(A))\n",
    "print('cumulative product value along x-axis:',np.cumprod(A,axis=0))\n",
    "print('cumulative product value along y-axis:',np.cumprod(A,axis=1))"
   ]
  },
  {
   "cell_type": "code",
   "execution_count": 120,
   "id": "50b1b24d",
   "metadata": {},
   "outputs": [
    {
     "name": "stdout",
     "output_type": "stream",
     "text": [
      "A==B: [False False False False]\n",
      "A<3: [ True  True False False]\n"
     ]
    }
   ],
   "source": [
    "# element wise comparision\n",
    "A=np.array([1,2,3,4])\n",
    "B=np.array([2,3,4,5])\n",
    "print('A==B:',A==B)\n",
    "print('A<3:',A<3)"
   ]
  },
  {
   "cell_type": "markdown",
   "id": "7938b87c",
   "metadata": {},
   "source": [
    "## Slicing"
   ]
  },
  {
   "cell_type": "code",
   "execution_count": 121,
   "id": "656bc696",
   "metadata": {},
   "outputs": [
    {
     "data": {
      "text/plain": [
       "array([[ 0,  1,  2,  3,  4,  5,  6,  7,  8,  9],\n",
       "       [10, 11, 12, 13, 14, 15, 16, 17, 18, 19],\n",
       "       [20, 21, 22, 23, 24, 25, 26, 27, 28, 29],\n",
       "       [30, 31, 32, 33, 34, 35, 36, 37, 38, 39],\n",
       "       [40, 41, 42, 43, 44, 45, 46, 47, 48, 49],\n",
       "       [50, 51, 52, 53, 54, 55, 56, 57, 58, 59],\n",
       "       [60, 61, 62, 63, 64, 65, 66, 67, 68, 69],\n",
       "       [70, 71, 72, 73, 74, 75, 76, 77, 78, 79],\n",
       "       [80, 81, 82, 83, 84, 85, 86, 87, 88, 89],\n",
       "       [90, 91, 92, 93, 94, 95, 96, 97, 98, 99]])"
      ]
     },
     "execution_count": 121,
     "metadata": {},
     "output_type": "execute_result"
    }
   ],
   "source": [
    "A=np.array(range(100)).reshape(10,10)\n",
    "A"
   ]
  },
  {
   "cell_type": "code",
   "execution_count": 122,
   "id": "5b2e0c5b",
   "metadata": {},
   "outputs": [
    {
     "data": {
      "text/plain": [
       "55"
      ]
     },
     "execution_count": 122,
     "metadata": {},
     "output_type": "execute_result"
    }
   ],
   "source": [
    "A[5][5] # A[5,5]"
   ]
  },
  {
   "cell_type": "code",
   "execution_count": 124,
   "id": "d82decdc",
   "metadata": {},
   "outputs": [
    {
     "name": "stdout",
     "output_type": "stream",
     "text": [
      "[[13 14 15]\n",
      " [23 24 25]\n",
      " [33 34 35]]\n"
     ]
    }
   ],
   "source": [
    "print(A[1:4,3:6])"
   ]
  },
  {
   "cell_type": "code",
   "execution_count": 128,
   "id": "e34de167",
   "metadata": {},
   "outputs": [
    {
     "name": "stdout",
     "output_type": "stream",
     "text": [
      "[[[0 1]\n",
      "  [2 3]]\n",
      "\n",
      " [[4 5]\n",
      "  [6 7]]]\n",
      "[[[ 8  9]\n",
      "  [10 11]]\n",
      "\n",
      " [[12 13]\n",
      "  [14 15]]]\n"
     ]
    }
   ],
   "source": [
    "# ellipsis slicing\n",
    "A=np.array(range(16)).reshape(2,2,2,2)\n",
    "print(A[0,...])\n",
    "print(A[1,...])"
   ]
  },
  {
   "cell_type": "code",
   "execution_count": 129,
   "id": "ecea464b",
   "metadata": {},
   "outputs": [
    {
     "data": {
      "text/plain": [
       "array([[  0,   1,   2,   3,   4,   5,   6,   7,   8,   9],\n",
       "       [100, 100, 100, 100, 100, 100, 100, 100, 100, 100],\n",
       "       [100, 100, 100, 100, 100, 100, 100, 100, 100, 100],\n",
       "       [ 30,  31,  32,  33,  34,  35,  36,  37,  38,  39],\n",
       "       [ 40,  41,  42,  43,  44,  45,  46,  47,  48,  49],\n",
       "       [ 50,  51,  52,  53,  54,  55,  56,  57,  58,  59],\n",
       "       [ 60,  61,  62,  63,  64,  65,  66,  67,  68,  69],\n",
       "       [ 70,  71,  72,  73,  74,  75,  76,  77,  78,  79],\n",
       "       [ 80,  81,  82,  83,  84,  85,  86,  87,  88,  89],\n",
       "       [ 90,  91,  92,  93,  94,  95,  96,  97,  98,  99]])"
      ]
     },
     "execution_count": 129,
     "metadata": {},
     "output_type": "execute_result"
    }
   ],
   "source": [
    "# assigning a value to a slice by broadcasting\n",
    "A=np.array(range(100)).reshape(10,10)\n",
    "A[1:3,:]=100\n",
    "A"
   ]
  },
  {
   "cell_type": "code",
   "execution_count": 130,
   "id": "f4ee9fee",
   "metadata": {},
   "outputs": [
    {
     "name": "stdout",
     "output_type": "stream",
     "text": [
      "[[ 0  1  2  3  4]\n",
      " [ 5  6  7  8  9]\n",
      " [15 16 17 18 19]]\n"
     ]
    }
   ],
   "source": [
    "# boolean indexing\n",
    "A=np.arange(25).reshape(5,5)\n",
    "bools=np.array([True,True,False,True,False])\n",
    "print(A[bools])"
   ]
  },
  {
   "cell_type": "code",
   "execution_count": 131,
   "id": "29eff7ba",
   "metadata": {},
   "outputs": [
    {
     "name": "stdout",
     "output_type": "stream",
     "text": [
      "[[10 11 12 13 14]\n",
      " [20 21 22 23 24]]\n"
     ]
    }
   ],
   "source": [
    "# negate the condition\n",
    "print(A[~bools])"
   ]
  },
  {
   "cell_type": "code",
   "execution_count": 132,
   "id": "b71e178f",
   "metadata": {},
   "outputs": [
    {
     "name": "stdout",
     "output_type": "stream",
     "text": [
      "[[ 0  1  2  3  4]\n",
      " [20 21 22 23 24]]\n"
     ]
    }
   ],
   "source": [
    "A=np.arange(25).reshape(5,5)\n",
    "B=np.array([1,2,3,4,5])\n",
    "print(A[(B<2) | (B>4)])"
   ]
  },
  {
   "cell_type": "code",
   "execution_count": 133,
   "id": "25309742",
   "metadata": {},
   "outputs": [
    {
     "name": "stdout",
     "output_type": "stream",
     "text": [
      "[0.20087971 0.40729391 0.74725083]\n"
     ]
    }
   ],
   "source": [
    "# indexing\n",
    "A=np.random.rand(10,10)\n",
    "print(A[[3,1,2],[3,2,1]]) # A[3,3],A[1,2],A[2,1]"
   ]
  },
  {
   "cell_type": "code",
   "execution_count": 134,
   "id": "80bc79f9",
   "metadata": {},
   "outputs": [
    {
     "name": "stdout",
     "output_type": "stream",
     "text": [
      "[[0.46664625 0.75013747 0.4810503 ]\n",
      " [0.31295532 0.21937439 0.15382818]\n",
      " [0.08064292 0.75443964 0.32296719]]\n"
     ]
    }
   ],
   "source": [
    "# row 3,1,2 and column 6,4,8\n",
    "print(A[[3,1,2]][:,[6,4,8]])"
   ]
  },
  {
   "cell_type": "code",
   "execution_count": 135,
   "id": "0bd26c12",
   "metadata": {},
   "outputs": [
    {
     "name": "stdout",
     "output_type": "stream",
     "text": [
      "(4, 4)\n"
     ]
    }
   ],
   "source": [
    "# dimention inference\n",
    "A=np.array(range(16)).reshape(4,-1)\n",
    "print(A.shape)"
   ]
  },
  {
   "cell_type": "code",
   "execution_count": 136,
   "id": "beb7a33e",
   "metadata": {},
   "outputs": [
    {
     "name": "stdout",
     "output_type": "stream",
     "text": [
      "[ 6  7  8  9 10 11 12 13 14 15]\n"
     ]
    }
   ],
   "source": [
    "# find element greater than 5 and return a flatten array\n",
    "A=np.arange(16).reshape(4,4)\n",
    "print(A[A>5]) # or A[np.where(arr>5)]"
   ]
  },
  {
   "cell_type": "code",
   "execution_count": 138,
   "id": "2079d8f1",
   "metadata": {},
   "outputs": [
    {
     "name": "stdout",
     "output_type": "stream",
     "text": [
      "[[ 2  2  2  2]\n",
      " [ 2  2 -1 -1]\n",
      " [-1 -1 -1 -1]\n",
      " [-1 -1 -1 -1]]\n"
     ]
    }
   ],
   "source": [
    "# return values depending on condition\n",
    "# np.where(condition,true,false)\n",
    "print(np.where(A>5,-1,2))"
   ]
  },
  {
   "cell_type": "code",
   "execution_count": 139,
   "id": "29d75f72",
   "metadata": {},
   "outputs": [
    {
     "name": "stdout",
     "output_type": "stream",
     "text": [
      "[[1 2]\n",
      " [1 3]\n",
      " [2 0]\n",
      " [2 1]\n",
      " [2 2]\n",
      " [2 3]\n",
      " [3 0]\n",
      " [3 1]\n",
      " [3 2]\n",
      " [3 3]]\n"
     ]
    }
   ],
   "source": [
    "# find indices where element satisfies condition\n",
    "print(np.argwhere(A>5))"
   ]
  },
  {
   "cell_type": "markdown",
   "id": "fee31b4a",
   "metadata": {},
   "source": [
    "## Sorting"
   ]
  },
  {
   "cell_type": "code",
   "execution_count": 140,
   "id": "c4584e90",
   "metadata": {},
   "outputs": [
    {
     "name": "stdout",
     "output_type": "stream",
     "text": [
      "[[0.26858101 0.04471807 0.11882602 0.09450724 0.55439209]\n",
      " [0.51181643 0.19195597 0.30944202 0.37339786 0.7939121 ]\n",
      " [0.77630382 0.28252082 0.31715859 0.41424364 0.85441524]\n",
      " [0.84897918 0.5515854  0.32053122 0.63643205 0.90210982]\n",
      " [0.95682905 0.94970314 0.39688193 0.72981917 0.99153762]]\n"
     ]
    }
   ],
   "source": [
    "A=np.random.rand(5,5)\n",
    "print(np.sort(A,axis=0)) # along row axis"
   ]
  },
  {
   "cell_type": "code",
   "execution_count": 141,
   "id": "835efd37",
   "metadata": {},
   "outputs": [
    {
     "name": "stdout",
     "output_type": "stream",
     "text": [
      "[[0.30944202 0.41424364 0.5515854  0.55439209 0.84897918]\n",
      " [0.04471807 0.09450724 0.11882602 0.95682905 0.99153762]\n",
      " [0.28252082 0.32053122 0.72981917 0.77630382 0.90210982]\n",
      " [0.19195597 0.39688193 0.51181643 0.63643205 0.85441524]\n",
      " [0.26858101 0.31715859 0.37339786 0.7939121  0.94970314]]\n"
     ]
    }
   ],
   "source": [
    "# sort along column axis\n",
    "print(np.sort(A,axis=1))"
   ]
  },
  {
   "cell_type": "code",
   "execution_count": 142,
   "id": "54d3f391",
   "metadata": {},
   "outputs": [
    {
     "name": "stdout",
     "output_type": "stream",
     "text": [
      "Indices along x-axis [[4 0 2 4 2]\n",
      " [3 1 4 1 0]\n",
      " [0 4 1 0 1]\n",
      " [2 2 3 2 3]\n",
      " [1 3 0 3 4]]\n",
      "Indices along y-axis [[4 1 0 3 2]\n",
      " [4 1 3 2 0]\n",
      " [4 2 0 1 3]\n",
      " [0 4 2 1 3]\n",
      " [3 2 0 1 4]]\n"
     ]
    }
   ],
   "source": [
    "# compute indices for sorted data\n",
    "A=np.random.rand(5,5)\n",
    "print('Indices along x-axis',np.argsort(A,axis=0))\n",
    "print('Indices along y-axis',np.argsort(A,axis=1))"
   ]
  },
  {
   "cell_type": "code",
   "execution_count": 143,
   "id": "ed4e7f20",
   "metadata": {},
   "outputs": [
    {
     "name": "stdout",
     "output_type": "stream",
     "text": [
      "[14  4  1 23 12  9  6 22 20 15  8 21  7 19  0 17 10 11 16  5  3  2 13 24\n",
      " 18]\n"
     ]
    }
   ],
   "source": [
    "print(np.argsort(A,axis=None))"
   ]
  },
  {
   "cell_type": "markdown",
   "id": "8f3b67d0",
   "metadata": {},
   "source": [
    "## Manipulating an array"
   ]
  },
  {
   "cell_type": "code",
   "execution_count": 145,
   "id": "e9ce4019",
   "metadata": {},
   "outputs": [
    {
     "name": "stdout",
     "output_type": "stream",
     "text": [
      "Shape of A: (3, 2)\n",
      "Shape of B: (2, 3)\n"
     ]
    },
    {
     "data": {
      "text/plain": [
       "array([[0.97415732, 0.69281843, 0.32662029],\n",
       "       [0.20322947, 0.04585377, 0.01024053]])"
      ]
     },
     "execution_count": 145,
     "metadata": {},
     "output_type": "execute_result"
    }
   ],
   "source": [
    "# transpose\n",
    "A=np.random.rand(3,2)\n",
    "B=A.T\n",
    "print('Shape of A:',A.shape)\n",
    "print('Shape of B:',B.shape)\n",
    "B"
   ]
  },
  {
   "cell_type": "code",
   "execution_count": 146,
   "id": "594ef73e",
   "metadata": {},
   "outputs": [
    {
     "name": "stdout",
     "output_type": "stream",
     "text": [
      "(2, 2, 4)\n",
      "(2, 2, 4)\n"
     ]
    },
    {
     "data": {
      "text/plain": [
       "array([[[ 0,  1,  2,  3],\n",
       "        [ 8,  9, 10, 11]],\n",
       "\n",
       "       [[ 4,  5,  6,  7],\n",
       "        [12, 13, 14, 15]]])"
      ]
     },
     "execution_count": 146,
     "metadata": {},
     "output_type": "execute_result"
    }
   ],
   "source": [
    "# transpose high dimensional array\n",
    "A=np.arange(16).reshape(2,2,4)\n",
    "B=A.transpose((1,0,2))\n",
    "print(A.shape)\n",
    "print(B.shape)\n",
    "B"
   ]
  },
  {
   "cell_type": "code",
   "execution_count": 147,
   "id": "7f9a0e29",
   "metadata": {},
   "outputs": [
    {
     "data": {
      "text/plain": [
       "array([[[ 0,  1,  2,  3],\n",
       "        [ 4,  5,  6,  7]],\n",
       "\n",
       "       [[ 8,  9, 10, 11],\n",
       "        [12, 13, 14, 15]]])"
      ]
     },
     "execution_count": 147,
     "metadata": {},
     "output_type": "execute_result"
    }
   ],
   "source": [
    "# swap axes\n",
    "A=np.arange(16).reshape((2,2,4))\n",
    "A"
   ]
  },
  {
   "cell_type": "code",
   "execution_count": 148,
   "id": "52163438",
   "metadata": {},
   "outputs": [
    {
     "name": "stdout",
     "output_type": "stream",
     "text": [
      "[[[ 0  4]\n",
      "  [ 1  5]\n",
      "  [ 2  6]\n",
      "  [ 3  7]]\n",
      "\n",
      " [[ 8 12]\n",
      "  [ 9 13]\n",
      "  [10 14]\n",
      "  [11 15]]]\n"
     ]
    }
   ],
   "source": [
    "print(A.swapaxes(1,2))"
   ]
  },
  {
   "cell_type": "code",
   "execution_count": 152,
   "id": "53018789",
   "metadata": {},
   "outputs": [
    {
     "data": {
      "text/plain": [
       "array([[ 0,  1,  2,  3,  4,  5],\n",
       "       [ 6,  7,  8,  9, 10, 11]])"
      ]
     },
     "execution_count": 152,
     "metadata": {},
     "output_type": "execute_result"
    }
   ],
   "source": [
    "# shape of array\n",
    "A=np.arange(12).reshape((4,3))\n",
    "B=A.reshape((2,6))\n",
    "B"
   ]
  },
  {
   "cell_type": "code",
   "execution_count": 153,
   "id": "ff2f30ef",
   "metadata": {},
   "outputs": [
    {
     "data": {
      "text/plain": [
       "array([ 0,  1,  2,  3,  4,  5,  6,  7,  8,  9, 10, 11, 12, 13, 14, 15])"
      ]
     },
     "execution_count": 153,
     "metadata": {},
     "output_type": "execute_result"
    }
   ],
   "source": [
    "# flatten\n",
    "A=np.arange(16).reshape(4,4)\n",
    "B=A.flatten()\n",
    "B"
   ]
  },
  {
   "cell_type": "code",
   "execution_count": 154,
   "id": "860fc07c",
   "metadata": {},
   "outputs": [
    {
     "data": {
      "text/plain": [
       "array([ 0,  1,  2,  3,  4,  5,  6,  7,  8,  9, 10, 11, 12, 13, 14, 15])"
      ]
     },
     "execution_count": 154,
     "metadata": {},
     "output_type": "execute_result"
    }
   ],
   "source": [
    "C=A.ravel()\n",
    "C"
   ]
  },
  {
   "cell_type": "code",
   "execution_count": 157,
   "id": "467b6e98",
   "metadata": {},
   "outputs": [
    {
     "data": {
      "text/plain": [
       "array([1, 2, 3, 4, 5, 6])"
      ]
     },
     "execution_count": 157,
     "metadata": {},
     "output_type": "execute_result"
    }
   ],
   "source": [
    "# appending elements in array\n",
    "A=np.array([1,2,3,4])\n",
    "B=np.append(A,[5,6])\n",
    "B"
   ]
  },
  {
   "cell_type": "code",
   "execution_count": 158,
   "id": "6025c8ed",
   "metadata": {},
   "outputs": [
    {
     "data": {
      "text/plain": [
       "array([  1,   2, 100,   3,   4])"
      ]
     },
     "execution_count": 158,
     "metadata": {},
     "output_type": "execute_result"
    }
   ],
   "source": [
    "# replace elements in array\n",
    "A=np.array([1,2,3,4])\n",
    "B=np.insert(A,2,100)\n",
    "B"
   ]
  },
  {
   "cell_type": "code",
   "execution_count": 159,
   "id": "758b160b",
   "metadata": {},
   "outputs": [
    {
     "data": {
      "text/plain": [
       "array([2, 3])"
      ]
     },
     "execution_count": 159,
     "metadata": {},
     "output_type": "execute_result"
    }
   ],
   "source": [
    "# delete element in an array\n",
    "A=np.array([1,2,3])\n",
    "B=np.delete(A,0)\n",
    "B"
   ]
  },
  {
   "cell_type": "code",
   "execution_count": 160,
   "id": "e3e6061c",
   "metadata": {},
   "outputs": [
    {
     "data": {
      "text/plain": [
       "array([1, 3, 5, 6])"
      ]
     },
     "execution_count": 160,
     "metadata": {},
     "output_type": "execute_result"
    }
   ],
   "source": [
    "A=np.array([1,2,3,4,5,6])\n",
    "B=np.delete(A,[1,3])\n",
    "B"
   ]
  },
  {
   "cell_type": "code",
   "execution_count": 161,
   "id": "d636e79e",
   "metadata": {},
   "outputs": [
    {
     "data": {
      "text/plain": [
       "array([1, 2, 3, 4])"
      ]
     },
     "execution_count": 161,
     "metadata": {},
     "output_type": "execute_result"
    }
   ],
   "source": [
    "# copy array\n",
    "A=np.array([1,2,3,4])\n",
    "B=A.copy()\n",
    "B"
   ]
  },
  {
   "cell_type": "markdown",
   "id": "d1b5a92e",
   "metadata": {},
   "source": [
    "## Splitting "
   ]
  },
  {
   "cell_type": "code",
   "execution_count": 162,
   "id": "99c1d8e8",
   "metadata": {},
   "outputs": [],
   "source": [
    "A=np.array([[1,2,3,4],[1,2,3,4]])\n",
    "B=np.array([[5,6,7,8],[5,6,7,8]])"
   ]
  },
  {
   "cell_type": "code",
   "execution_count": 163,
   "id": "214abfac",
   "metadata": {},
   "outputs": [
    {
     "data": {
      "text/plain": [
       "array([[1, 2, 3, 4],\n",
       "       [1, 2, 3, 4],\n",
       "       [5, 6, 7, 8],\n",
       "       [5, 6, 7, 8]])"
      ]
     },
     "execution_count": 163,
     "metadata": {},
     "output_type": "execute_result"
    }
   ],
   "source": [
    "# concatenate along row\n",
    "C=np.concatenate((A,B),axis=0)\n",
    "C"
   ]
  },
  {
   "cell_type": "code",
   "execution_count": 164,
   "id": "4240ddea",
   "metadata": {},
   "outputs": [
    {
     "data": {
      "text/plain": [
       "array([[1, 2, 3, 4, 5, 6, 7, 8],\n",
       "       [1, 2, 3, 4, 5, 6, 7, 8]])"
      ]
     },
     "execution_count": 164,
     "metadata": {},
     "output_type": "execute_result"
    }
   ],
   "source": [
    "# concatenate along column\n",
    "D=np.concatenate((A,B),axis=1)\n",
    "D"
   ]
  },
  {
   "cell_type": "code",
   "execution_count": 166,
   "id": "9df4a3c1",
   "metadata": {},
   "outputs": [
    {
     "data": {
      "text/plain": [
       "array([[1, 2, 3, 4],\n",
       "       [1, 2, 3, 4],\n",
       "       [5, 6, 7, 8],\n",
       "       [5, 6, 7, 8]])"
      ]
     },
     "execution_count": 166,
     "metadata": {},
     "output_type": "execute_result"
    }
   ],
   "source": [
    "# stack vertically\n",
    "E=np.vstack((A,B))\n",
    "E"
   ]
  },
  {
   "cell_type": "code",
   "execution_count": 167,
   "id": "d0461dc2",
   "metadata": {},
   "outputs": [
    {
     "data": {
      "text/plain": [
       "array([[1, 2, 3, 4, 5, 6, 7, 8],\n",
       "       [1, 2, 3, 4, 5, 6, 7, 8]])"
      ]
     },
     "execution_count": 167,
     "metadata": {},
     "output_type": "execute_result"
    }
   ],
   "source": [
    "# stack horizontally\n",
    "F=np.hstack((A,B))\n",
    "F"
   ]
  },
  {
   "cell_type": "code",
   "execution_count": 174,
   "id": "be3e62d8",
   "metadata": {},
   "outputs": [
    {
     "name": "stdout",
     "output_type": "stream",
     "text": [
      "Shape of A: (4, 4)\n",
      "Shape of B[0]: (4, 2)\n",
      "Shape of B[1]: (4, 2)\n"
     ]
    },
    {
     "data": {
      "text/plain": [
       "[array([[ 0,  1],\n",
       "        [ 4,  5],\n",
       "        [ 8,  9],\n",
       "        [12, 13]]),\n",
       " array([[ 2,  3],\n",
       "        [ 6,  7],\n",
       "        [10, 11],\n",
       "        [14, 15]])]"
      ]
     },
     "execution_count": 174,
     "metadata": {},
     "output_type": "execute_result"
    }
   ],
   "source": [
    "# horizontal split\n",
    "A=np.arange(16).reshape(4,4)\n",
    "B=np.hsplit(A,2)\n",
    "print('Shape of A:',A.shape)\n",
    "print('Shape of B[0]:',B[0].shape)\n",
    "print('Shape of B[1]:',B[1].shape)\n",
    "B"
   ]
  },
  {
   "cell_type": "code",
   "execution_count": 176,
   "id": "08f63d0c",
   "metadata": {},
   "outputs": [
    {
     "name": "stdout",
     "output_type": "stream",
     "text": [
      "Shape of A: (4, 4)\n",
      "Shape of B[0]: (2, 4)\n",
      "Shape of B[1]: (2, 4)\n"
     ]
    },
    {
     "data": {
      "text/plain": [
       "[array([[0, 1, 2, 3],\n",
       "        [4, 5, 6, 7]]),\n",
       " array([[ 8,  9, 10, 11],\n",
       "        [12, 13, 14, 15]])]"
      ]
     },
     "execution_count": 176,
     "metadata": {},
     "output_type": "execute_result"
    }
   ],
   "source": [
    "# vertical split\n",
    "A=np.arange(16).reshape(4,4)\n",
    "B=np.vsplit(A,2)\n",
    "print('Shape of A:',A.shape)\n",
    "print('Shape of B[0]:',B[0].shape)\n",
    "print('Shape of B[1]:',B[1].shape)\n",
    "B"
   ]
  },
  {
   "cell_type": "markdown",
   "id": "470853c2",
   "metadata": {},
   "source": [
    "## Set Operation"
   ]
  },
  {
   "cell_type": "code",
   "execution_count": 177,
   "id": "23016a0a",
   "metadata": {},
   "outputs": [
    {
     "name": "stdout",
     "output_type": "stream",
     "text": [
      "unique values: [1 2 3 4 5 6]\n"
     ]
    }
   ],
   "source": [
    "# unique element in array\n",
    "A=np.array([1,1,2,2,3,3,3,4,5,5,5,5,6])\n",
    "print('unique values:',np.unique(A))"
   ]
  },
  {
   "cell_type": "code",
   "execution_count": 178,
   "id": "05c32f46",
   "metadata": {},
   "outputs": [
    {
     "name": "stdout",
     "output_type": "stream",
     "text": [
      "unique values: [1 2 3 4 5 6]\n",
      "Counts: [2 2 3 1 4 1]\n"
     ]
    }
   ],
   "source": [
    "# return value and number of repeats\n",
    "uniques,counts=np.unique(A,return_counts=True)\n",
    "print('unique values:',uniques)\n",
    "print('Counts:',counts)"
   ]
  },
  {
   "cell_type": "code",
   "execution_count": 179,
   "id": "2b45cbe2",
   "metadata": {},
   "outputs": [
    {
     "name": "stdout",
     "output_type": "stream",
     "text": [
      "Intersection: [3 4 5]\n",
      "Union: [1 2 3 4 5 6 7]\n"
     ]
    }
   ],
   "source": [
    "# intersection over union\n",
    "A=np.array([1,2,3,4,5])\n",
    "B=np.array([3,4,5,6,7])\n",
    "# intersection\n",
    "print('Intersection:',np.intersect1d(A,B))\n",
    "\n",
    "# union\n",
    "print('Union:',np.union1d(A,B))"
   ]
  },
  {
   "cell_type": "code",
   "execution_count": 180,
   "id": "983e1c98",
   "metadata": {},
   "outputs": [
    {
     "name": "stdout",
     "output_type": "stream",
     "text": [
      "[False False  True  True  True]\n"
     ]
    }
   ],
   "source": [
    "print(np.in1d(A,B))"
   ]
  },
  {
   "cell_type": "code",
   "execution_count": 181,
   "id": "042fb0d9",
   "metadata": {},
   "outputs": [
    {
     "name": "stdout",
     "output_type": "stream",
     "text": [
      "[1 2]\n"
     ]
    }
   ],
   "source": [
    "# compute elements in array that are not in another array\n",
    "print(np.setdiff1d(A,B))"
   ]
  },
  {
   "cell_type": "markdown",
   "id": "633685d6",
   "metadata": {},
   "source": [
    "## Linear Algebra"
   ]
  },
  {
   "cell_type": "code",
   "execution_count": 182,
   "id": "2039cb55",
   "metadata": {},
   "outputs": [
    {
     "name": "stdout",
     "output_type": "stream",
     "text": [
      "[[0.68319781 0.79189007 0.86662303]\n",
      " [0.98964456 0.82067095 1.17205628]\n",
      " [0.63086592 0.47839704 0.8428932 ]]\n"
     ]
    }
   ],
   "source": [
    "# matrix multiplication (elementwise)\n",
    "A=np.random.rand(3,3)\n",
    "B=np.random.rand(3,3)\n",
    "print(A@B)\n",
    "#print(np.dot(A,B))"
   ]
  },
  {
   "cell_type": "code",
   "execution_count": 183,
   "id": "d8183894",
   "metadata": {},
   "outputs": [
    {
     "name": "stdout",
     "output_type": "stream",
     "text": [
      "Q: [[-0.03412506 -0.04824168 -0.91355179  0.33269527 -0.22637405]\n",
      " [-0.15622317 -0.58763827  0.31493719  0.72674882 -0.05409524]\n",
      " [-0.10425878 -0.62150154 -0.25442751 -0.367432    0.63492229]\n",
      " [-0.37211967 -0.39231369  0.03826771 -0.46585199 -0.69938146]\n",
      " [-0.90834292  0.33493253 -0.00631848  0.0955283   0.2314471 ]]\n",
      "R: [[-1.05910828 -1.28817529 -0.81603678 -1.34277088 -1.14445072]\n",
      " [ 0.         -1.22358792 -0.21774571 -1.00021358 -0.99463668]\n",
      " [ 0.          0.         -0.52212653 -0.39377424  0.16984652]\n",
      " [ 0.          0.          0.          0.38913049  0.24060606]\n",
      " [ 0.          0.          0.          0.          0.03884668]]\n"
     ]
    }
   ],
   "source": [
    "# QR factorization\n",
    "A=np.random.rand(5,5)\n",
    "q,r=np.linalg.qr(A)\n",
    "print('Q:',q)\n",
    "print('R:',r)"
   ]
  },
  {
   "cell_type": "code",
   "execution_count": 184,
   "id": "19fba920",
   "metadata": {},
   "outputs": [
    {
     "name": "stdout",
     "output_type": "stream",
     "text": [
      "u: [[-0.50840486  0.0440782  -0.70776199  0.48838599 -0.01156302]\n",
      " [-0.40698488 -0.59232143 -0.08324933 -0.47908387  0.49705818]\n",
      " [-0.3237877  -0.49981342  0.55673114  0.50828491 -0.27756973]\n",
      " [-0.53180439  0.23985993  0.05616708 -0.50878414 -0.63058327]\n",
      " [-0.43385876  0.58298045  0.42312907  0.12142042  0.52737012]]\n",
      "s: [2.57062086 0.90555547 0.41075454 0.37680754 0.19014749]\n",
      "v: [[-0.55598737 -0.50168334 -0.4388972  -0.38661448 -0.31159325]\n",
      " [ 0.03100374 -0.26157959  0.59066525  0.21426199 -0.73199812]\n",
      " [-0.35839482  0.10731319  0.64707352 -0.59559731  0.29427323]\n",
      " [ 0.58843709 -0.71184607  0.08900722 -0.24803241  0.27852217]\n",
      " [-0.46390921 -0.40205596  0.1784864   0.62318922  0.45046316]]\n"
     ]
    }
   ],
   "source": [
    "# single value decomposition (SVD)\n",
    "A=np.random.rand(5,5)\n",
    "u,s,v=np.linalg.svd(A)\n",
    "print('u:',u)\n",
    "print('s:',s)\n",
    "print('v:',v)"
   ]
  },
  {
   "cell_type": "code",
   "execution_count": 185,
   "id": "6091311f",
   "metadata": {},
   "outputs": [
    {
     "name": "stdout",
     "output_type": "stream",
     "text": [
      "[ 2.70825462 -0.9061212   0.28089081  0.49143096  0.66654835]\n"
     ]
    }
   ],
   "source": [
    "# compute eigen values\n",
    "A=np.random.rand(5,5)\n",
    "print(np.linalg.eigvals(A))"
   ]
  },
  {
   "cell_type": "code",
   "execution_count": 186,
   "id": "d04dbb26",
   "metadata": {},
   "outputs": [
    {
     "name": "stdout",
     "output_type": "stream",
     "text": [
      "w(eigen value): [ 2.48690289+0.j          0.02563825+0.57329488j  0.02563825-0.57329488j\n",
      " -0.38464629+0.14385146j -0.38464629-0.14385146j]\n",
      "v(eigen vector): [[-0.54210134+0.j         -0.19216698+0.1430697j  -0.19216698-0.1430697j\n",
      "   0.24806273+0.20212485j  0.24806273-0.20212485j]\n",
      " [-0.3403483 +0.j         -0.0080994 +0.49809658j -0.0080994 -0.49809658j\n",
      "  -0.33020294+0.03454123j -0.33020294-0.03454123j]\n",
      " [-0.34285292+0.j         -0.23142767-0.10588127j -0.23142767+0.10588127j\n",
      "   0.00120804-0.22936374j  0.00120804+0.22936374j]\n",
      " [-0.57028683+0.j          0.02068878-0.52762345j  0.02068878+0.52762345j\n",
      "  -0.57116639-0.10614856j -0.57116639+0.10614856j]\n",
      " [-0.38407549+0.j          0.59232842+0.j          0.59232842-0.j\n",
      "   0.63029803+0.j          0.63029803-0.j        ]]\n"
     ]
    }
   ],
   "source": [
    "# eigen value decomposition\n",
    "A=np.random.rand(5,5)\n",
    "w,v=np.linalg.eig(A)\n",
    "print('w(eigen value):',w)\n",
    "print('v(eigen vector):',v)"
   ]
  },
  {
   "cell_type": "code",
   "execution_count": 188,
   "id": "72d19f90",
   "metadata": {},
   "outputs": [
    {
     "name": "stdout",
     "output_type": "stream",
     "text": [
      "Trace: 0.8839418438106326\n",
      "Determinant: 0.05012685667028006\n"
     ]
    }
   ],
   "source": [
    "# trace and determinant\n",
    "A=np.random.rand(5,5)\n",
    "print('Trace:',np.trace(A))\n",
    "print('Determinant:',np.linalg.det(A))"
   ]
  },
  {
   "cell_type": "code",
   "execution_count": 189,
   "id": "6ed8c7f9",
   "metadata": {},
   "outputs": [
    {
     "name": "stdout",
     "output_type": "stream",
     "text": [
      "[[ 7.80282826 -8.93275836  3.25248074 -0.16954065]\n",
      " [-6.06833689  8.85012957 -3.41237149 -0.25408436]\n",
      " [-3.36069492  2.14651495  0.78335684  0.22566228]\n",
      " [-2.7985683   3.74079802 -2.10992117  1.11573526]]\n"
     ]
    }
   ],
   "source": [
    "# inverse of matrix\n",
    "A=np.random.rand(4,4)\n",
    "print(np.linalg.inv(A))"
   ]
  },
  {
   "cell_type": "code",
   "execution_count": 190,
   "id": "1545ed76",
   "metadata": {},
   "outputs": [
    {
     "name": "stdout",
     "output_type": "stream",
     "text": [
      "[[ 7.80282826 -8.93275836  3.25248074 -0.16954065]\n",
      " [-6.06833689  8.85012957 -3.41237149 -0.25408436]\n",
      " [-3.36069492  2.14651495  0.78335684  0.22566228]\n",
      " [-2.7985683   3.74079802 -2.10992117  1.11573526]]\n"
     ]
    }
   ],
   "source": [
    "# psudo inverse \n",
    "print(np.linalg.pinv(A))"
   ]
  },
  {
   "cell_type": "code",
   "execution_count": 191,
   "id": "5aebe4bc",
   "metadata": {},
   "outputs": [
    {
     "name": "stdout",
     "output_type": "stream",
     "text": [
      "solution: [ -5.39367214  15.64085556 -16.71082133  -9.49416751  26.85463558]\n",
      "residuals: []\n",
      "rank: 5\n",
      "singular: [2.98679505 1.27970893 0.61582872 0.27337232 0.03192271]\n"
     ]
    },
    {
     "name": "stderr",
     "output_type": "stream",
     "text": [
      "C:\\Users\\User\\AppData\\Local\\Temp\\ipykernel_11492\\1760653798.py:4: FutureWarning: `rcond` parameter will change to the default of machine precision times ``max(M, N)`` where M and N are the input matrix dimensions.\n",
      "To use the future default and silence this warning we advise to pass `rcond=None`, to keep using the old, explicitly pass `rcond=-1`.\n",
      "  solution,residuals,rank,singular=np.linalg.lstsq(A,B)\n"
     ]
    }
   ],
   "source": [
    "# least square \n",
    "A=np.random.rand(5,5)\n",
    "B=[1,2,3,4,5]\n",
    "solution,residuals,rank,singular=np.linalg.lstsq(A,B)\n",
    "print('solution:',solution)\n",
    "print('residuals:',residuals)\n",
    "print('rank:',rank)\n",
    "print('singular:',singular)"
   ]
  },
  {
   "cell_type": "code",
   "execution_count": null,
   "id": "e1e44554",
   "metadata": {},
   "outputs": [],
   "source": []
  }
 ],
 "metadata": {
  "kernelspec": {
   "display_name": "tf_2.4",
   "language": "python",
   "name": "tf_2.4"
  },
  "language_info": {
   "codemirror_mode": {
    "name": "ipython",
    "version": 3
   },
   "file_extension": ".py",
   "mimetype": "text/x-python",
   "name": "python",
   "nbconvert_exporter": "python",
   "pygments_lexer": "ipython3",
   "version": "3.8.0"
  }
 },
 "nbformat": 4,
 "nbformat_minor": 5
}
